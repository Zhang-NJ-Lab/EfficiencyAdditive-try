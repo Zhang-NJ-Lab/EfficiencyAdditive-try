{
 "cells": [
  {
   "cell_type": "code",
   "execution_count": 1,
   "id": "d4a34d2c",
   "metadata": {},
   "outputs": [],
   "source": [
    "from chemdataextractor.doc import Document\n",
    "#from chemdataextractor.doc.document\n",
    "from chemdataextractor.model.units import TemperatureModel, RatioModel,TimeModel,DimensionlessModel\n",
    "from chemdataextractor.model.model import Compound, ModelType, StringType, CurieTemperature\n",
    "from chemdataextractor.model.base import BaseModel\n",
    "#from chemdataextractor.model.pv_model import OpenCircuitVoltage\n",
    "from chemdataextractor.parse.elements import I,R,W,Optional,ZeroOrMore,Any,Start,Not\n",
    "from chemdataextractor.parse.actions import join, merge\n",
    "from chemdataextractor.model.pv_model import PowerConversionEfficiency, Perovskite,Additive,SentenceDye,CommonSentenceDye\n",
    "from chemdataextractor.reader.plaintext import PlainTextReader\n",
    "from chemdataextractor.parse.auto import AutoSentenceParserOptionalCompound, AutoSentenceParserPerovskite"
   ]
  },
  {
   "cell_type": "code",
   "execution_count": 2,
   "id": "3f0ed5ed",
   "metadata": {},
   "outputs": [
    {
     "data": {
      "text/plain": [
       "[]"
      ]
     },
     "execution_count": 2,
     "metadata": {},
     "output_type": "execute_result"
    }
   ],
   "source": [
    "with open('1.txt', 'rb') as f:\n",
    "    doc = Document.from_file(f)\n",
    "\n",
    "#print(doc.cems)\n",
    "doc.records"
   ]
  },
  {
   "cell_type": "code",
   "execution_count": 3,
   "id": "54361662",
   "metadata": {},
   "outputs": [
    {
     "name": "stdout",
     "output_type": "stream",
     "text": [
      "[<class '__main__.PCEandPerovskiteandAdditive'>]\n",
      "{'PCEandPerovskiteandAdditive': {'raw_value': '8.64', 'raw_units': '%', 'value': [8.64], 'units': 'Percent^(1.0)', 'specifier': 'power conversion efficiency', 'perovskite': {'Perovskite': {'specifier': 'PSCs', 'raw_value': 'FA_0.4MA_0.6PbI_3'}}}}\n",
      "{'PCEandPerovskiteandAdditive': {'raw_value': '5.65', 'raw_units': '%', 'value': [5.65], 'units': 'Percent^(1.0)', 'specifier': 'power conversion efficiency'}}\n",
      "{'PCEandPerovskiteandAdditive': {'raw_value': '10.55', 'raw_units': '%', 'value': [10.55], 'units': 'Percent^(1.0)', 'specifier': 'power conversion efficiency'}}\n",
      "{'PCEandPerovskiteandAdditive': {'raw_value': '12.19', 'raw_units': '%', 'value': [12.19], 'units': 'Percent^(1.0)', 'specifier': 'power conversion efficiency', 'additive': {'Additive': {'specifier': 'passivate', 'raw_value': 'ethylammonium chlorine'}}}}\n",
      "{'PCEandPerovskiteandAdditive': {'raw_value': '0.44', 'raw_units': '%', 'value': [0.44], 'units': 'Percent^(1.0)', 'specifier': 'PCE', 'additive': {'Additive': {'specifier': 'additive', 'raw_value': 'In'}}}}\n",
      "{'PCEandPerovskiteandAdditive': {'raw_value': '10.12', 'raw_units': '%(', 'value': [10.12], 'units': 'Percent^(1.0)', 'specifier': 'PCE', 'additive': {'Additive': {'specifier': 'additive', 'raw_value': 'HI'}}}}\n",
      "{'PCEandPerovskiteandAdditive': {'raw_value': '9.44', 'raw_units': '%', 'value': [9.44], 'units': 'Percent^(1.0)', 'specifier': 'power conversion efficiency'}}\n",
      "{'PCEandPerovskiteandAdditive': {'raw_value': '8.87', 'raw_units': '%', 'value': [8.87], 'units': 'Percent^(1.0)', 'specifier': 'power conversion efficiency'}}\n",
      "{'PCEandPerovskiteandAdditive': {'raw_value': '3.01', 'raw_units': '%', 'value': [3.01], 'units': 'Percent^(1.0)', 'specifier': 'power conversion efficiency'}}\n",
      "{'PCEandPerovskiteandAdditive': {'raw_value': '4', 'raw_units': '%', 'value': [4.0], 'units': 'Percent^(1.0)', 'specifier': 'power conversion efficiency'}}\n",
      "{'PCEandPerovskiteandAdditive': {'raw_value': '1.61', 'raw_units': '%', 'value': [1.61], 'units': 'Percent^(1.0)', 'specifier': 'PCE'}}\n",
      "{'PCEandPerovskiteandAdditive': {'raw_value': '16.89', 'raw_units': '%', 'value': [16.89], 'units': 'Percent^(1.0)', 'specifier': 'PCE'}}\n",
      "{'PCEandPerovskiteandAdditive': {'raw_value': '7', 'raw_units': '%', 'value': [7.0], 'units': 'Percent^(1.0)', 'specifier': 'PCE'}}\n",
      "{'PCEandPerovskiteandAdditive': {'raw_value': '73', 'raw_units': '%', 'value': [73.0], 'units': 'Percent^(1.0)', 'specifier': 'power conversion efficiency'}}\n",
      "{'PCEandPerovskiteandAdditive': {'raw_value': '20.03', 'raw_units': '%', 'value': [20.03], 'units': 'Percent^(1.0)', 'specifier': 'power conversion efficiency', 'perovskite': {'Perovskite': {'specifier': 'PSCs', 'raw_value': 'MAPbI_3'}}}}\n",
      "{'PCEandPerovskiteandAdditive': {'raw_value': '15.14', 'raw_units': '%', 'value': [15.14], 'units': 'Percent^(1.0)', 'specifier': 'power conversion efficiency', 'additive': {'Additive': {'specifier': 'doped', 'raw_value': 'Cl'}}, 'perovskite': {'Perovskite': {'specifier': 'perovskite', 'raw_value': 'CH_3NH_3PbI_3'}}}}\n",
      "{'PCEandPerovskiteandAdditive': {'raw_value': '18', 'raw_units': '%', 'value': [18.0], 'units': 'Percent^(1.0)', 'specifier': 'PCE'}}\n",
      "{'PCEandPerovskiteandAdditive': {'raw_value': '18.18', 'raw_units': '%', 'value': [18.18], 'units': 'Percent^(1.0)', 'specifier': 'power conversion efficiency'}}\n"
     ]
    }
   ],
   "source": [
    "class PCEandPerovskiteandAdditive(RatioModel):\n",
    "    #specifier = StringType(parse_expression=(I('PCE') | I('η') | I('Ƞ') | I('eff') | I('efficiency') | I('PCES')), required=True, contextual=False, updatable=True)\n",
    "    specifier = StringType(parse_expression=(I('PCE') | I('η') | I('Ƞ') | I('eff') |(I('power')+I('conversion')+I('efficiency')).add_action(join) | I('PCES')),required=True, contextual=False, updatable=True)\n",
    "    additive = ModelType(Additive, required=False, contextual=False)\n",
    "    perovskite = ModelType(Perovskite, required=False, contextual=False)\n",
    "\n",
    "    parsers = [AutoSentenceParserOptionalCompound()]#改动\n",
    "\n",
    "\n",
    "\n",
    "\n",
    "f = open('1.txt','rb')\n",
    "doc = Document.from_file(f)\n",
    "\n",
    "doc.models = [PCEandPerovskiteandAdditive]\n",
    "\n",
    "\n",
    "print(doc.models)\n",
    "for record in doc.records:\n",
    "    print(record.serialize())\n",
    "   #print(record.serialize(),file=a)\n",
    "    f = open(r'out.txt', 'a', encoding='UTF8')\n",
    "    print(record.serialize(), file=f)"
   ]
  },
  {
   "cell_type": "code",
   "execution_count": null,
   "id": "12246aab",
   "metadata": {},
   "outputs": [],
   "source": []
  }
 ],
 "metadata": {
  "kernelspec": {
   "display_name": "Python [conda env:py37]",
   "language": "python",
   "name": "conda-env-py37-py"
  },
  "language_info": {
   "codemirror_mode": {
    "name": "ipython",
    "version": 3
   },
   "file_extension": ".py",
   "mimetype": "text/x-python",
   "name": "python",
   "nbconvert_exporter": "python",
   "pygments_lexer": "ipython3",
   "version": "3.7.0"
  }
 },
 "nbformat": 4,
 "nbformat_minor": 5
}
